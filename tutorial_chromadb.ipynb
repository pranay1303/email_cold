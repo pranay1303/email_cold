{
 "cells": [
  {
   "cell_type": "code",
   "id": "initial_id",
   "metadata": {
    "collapsed": true,
    "ExecuteTime": {
     "end_time": "2024-09-28T05:23:46.040215Z",
     "start_time": "2024-09-28T05:23:44.144679Z"
    }
   },
   "source": [
    "import chromadb\n",
    "\n",
    "client = chromadb.Client()\n",
    "collection = client.create_collection(name = \"my_collection\")"
   ],
   "outputs": [],
   "execution_count": 1
  },
  {
   "metadata": {
    "ExecuteTime": {
     "end_time": "2024-09-28T05:23:54.158892Z",
     "start_time": "2024-09-28T05:23:53.266758Z"
    }
   },
   "cell_type": "code",
   "source": [
    "collection.add(\n",
    "    documents=[\n",
    "        \"This document is about New York\",\n",
    "        \"This document is about Delhi\"\n",
    "    ],\n",
    "    ids = ['id1', 'id2']\n",
    ")"
   ],
   "id": "f6030d03f06025db",
   "outputs": [],
   "execution_count": 2
  },
  {
   "metadata": {
    "ExecuteTime": {
     "end_time": "2024-09-28T05:24:18.422760Z",
     "start_time": "2024-09-28T05:24:18.405969Z"
    }
   },
   "cell_type": "code",
   "source": [
    "all_docs = collection.get()\n",
    "all_docs"
   ],
   "id": "f2252a18cc78e76b",
   "outputs": [
    {
     "data": {
      "text/plain": [
       "{'ids': ['id1', 'id2'],\n",
       " 'embeddings': None,\n",
       " 'metadatas': [None, None],\n",
       " 'documents': ['This document is about New York',\n",
       "  'This document is about Delhi'],\n",
       " 'uris': None,\n",
       " 'data': None,\n",
       " 'included': ['metadatas', 'documents']}"
      ]
     },
     "execution_count": 3,
     "metadata": {},
     "output_type": "execute_result"
    }
   ],
   "execution_count": 3
  },
  {
   "metadata": {
    "ExecuteTime": {
     "end_time": "2024-09-28T05:24:28.345223Z",
     "start_time": "2024-09-28T05:24:28.328687Z"
    }
   },
   "cell_type": "code",
   "source": [
    "documents = collection.get(ids=[\"id1\"])\n",
    "documents"
   ],
   "id": "ea2838b1dcd213b8",
   "outputs": [
    {
     "data": {
      "text/plain": [
       "{'ids': ['id1'],\n",
       " 'embeddings': None,\n",
       " 'metadatas': [None],\n",
       " 'documents': ['This document is about New York'],\n",
       " 'uris': None,\n",
       " 'data': None,\n",
       " 'included': ['metadatas', 'documents']}"
      ]
     },
     "execution_count": 4,
     "metadata": {},
     "output_type": "execute_result"
    }
   ],
   "execution_count": 4
  },
  {
   "metadata": {
    "ExecuteTime": {
     "end_time": "2024-09-28T05:24:45.245126Z",
     "start_time": "2024-09-28T05:24:45.187753Z"
    }
   },
   "cell_type": "code",
   "source": [
    "#Performs meaning based semantic search\n",
    "#I'm searching a document by providing a food item which is popular in Delhi - I'm not searching a document by Delhi - This is where vector database comes into play\n",
    "results = collection.query(\n",
    "    query_texts=['Query is about Chole Bhature'],\n",
    "    n_results=2\n",
    ")\n",
    "results\n",
    "#The vector database does semantic search and tie that database to Delhi\n",
    "#The distance from Delhi is 1.5 whereas from New York is 1.8  - Which means this is more closer to Delhi"
   ],
   "id": "df38973f37fd57cb",
   "outputs": [
    {
     "data": {
      "text/plain": [
       "{'ids': [['id2', 'id1']],\n",
       " 'distances': [[1.443028450012207, 1.8624567985534668]],\n",
       " 'metadatas': [[None, None]],\n",
       " 'embeddings': None,\n",
       " 'documents': [['This document is about Delhi',\n",
       "   'This document is about New York']],\n",
       " 'uris': None,\n",
       " 'data': None,\n",
       " 'included': ['metadatas', 'documents', 'distances']}"
      ]
     },
     "execution_count": 5,
     "metadata": {},
     "output_type": "execute_result"
    }
   ],
   "execution_count": 5
  },
  {
   "metadata": {
    "ExecuteTime": {
     "end_time": "2024-09-28T05:24:54.384263Z",
     "start_time": "2024-09-28T05:24:54.338051Z"
    }
   },
   "cell_type": "code",
   "source": [
    "#Here New York comes first - which is more closer to our query as compared to Delhi\n",
    "results = collection.query(\n",
    "    query_texts=['Query is about Pizza'],\n",
    "    n_results=2\n",
    ")\n",
    "results\n"
   ],
   "id": "cea0dd79760c90c9",
   "outputs": [
    {
     "data": {
      "text/plain": [
       "{'ids': [['id1', 'id2']],\n",
       " 'distances': [[1.6637976169586182, 1.7067852020263672]],\n",
       " 'metadatas': [[None, None]],\n",
       " 'embeddings': None,\n",
       " 'documents': [['This document is about New York',\n",
       "   'This document is about Delhi']],\n",
       " 'uris': None,\n",
       " 'data': None,\n",
       " 'included': ['metadatas', 'documents', 'distances']}"
      ]
     },
     "execution_count": 6,
     "metadata": {},
     "output_type": "execute_result"
    }
   ],
   "execution_count": 6
  },
  {
   "metadata": {
    "ExecuteTime": {
     "end_time": "2024-09-28T05:25:03.698714Z",
     "start_time": "2024-09-28T05:25:03.644898Z"
    }
   },
   "cell_type": "code",
   "source": [
    "#The more relevant the query - the closer it is to our document - Here , the doc about New York\n",
    "results = collection.query(\n",
    "    query_texts=['Query is about Brooklyn Bridge'],\n",
    "    n_results=2\n",
    ")\n",
    "results"
   ],
   "id": "b6ab2e2651d26fa5",
   "outputs": [
    {
     "data": {
      "text/plain": [
       "{'ids': [['id1', 'id2']],\n",
       " 'distances': [[1.095342755317688, 1.571172833442688]],\n",
       " 'metadatas': [[None, None]],\n",
       " 'embeddings': None,\n",
       " 'documents': [['This document is about New York',\n",
       "   'This document is about Delhi']],\n",
       " 'uris': None,\n",
       " 'data': None,\n",
       " 'included': ['metadatas', 'documents', 'distances']}"
      ]
     },
     "execution_count": 7,
     "metadata": {},
     "output_type": "execute_result"
    }
   ],
   "execution_count": 7
  },
  {
   "metadata": {
    "ExecuteTime": {
     "end_time": "2024-09-28T05:25:13.857118Z",
     "start_time": "2024-09-28T05:25:13.841375Z"
    }
   },
   "cell_type": "code",
   "source": [
    "collection.delete(ids=all_docs['ids'])\n",
    "collection.get()"
   ],
   "id": "fc684609c72f0583",
   "outputs": [
    {
     "data": {
      "text/plain": [
       "{'ids': [],\n",
       " 'embeddings': None,\n",
       " 'metadatas': [],\n",
       " 'documents': [],\n",
       " 'uris': None,\n",
       " 'data': None,\n",
       " 'included': ['metadatas', 'documents']}"
      ]
     },
     "execution_count": 8,
     "metadata": {},
     "output_type": "execute_result"
    }
   ],
   "execution_count": 8
  },
  {
   "metadata": {
    "ExecuteTime": {
     "end_time": "2024-09-28T05:25:26.869070Z",
     "start_time": "2024-09-28T05:25:26.763750Z"
    }
   },
   "cell_type": "code",
   "source": [
    "#Add Meta Data\n",
    "#Useful while building LLM toold - Cuz LLM will generate an answer but to know which source it is referring to - we need this\n",
    "collection.add(\n",
    "    documents=[\n",
    "        \"This document is about New York\",\n",
    "        \"This document is about Delhi\"\n",
    "    ],\n",
    "    ids = ['id1', 'id2'],\n",
    "    metadatas=[\n",
    "        {\"url\":\"https://en.wikipedia.org/wiki/New_York_City\"},\n",
    "        {\"url\":\"https://en.wikipedia.org/wiki/New_Delhi\"},\n",
    "    ]\n",
    ")"
   ],
   "id": "6acec9fe3e5267f",
   "outputs": [],
   "execution_count": 9
  },
  {
   "metadata": {
    "ExecuteTime": {
     "end_time": "2024-09-28T05:25:35.912048Z",
     "start_time": "2024-09-28T05:25:35.858666Z"
    }
   },
   "cell_type": "code",
   "source": [
    "results = collection.query(\n",
    "    query_texts=['Query is about Chole Bhature'],\n",
    "    n_results=2\n",
    ")\n",
    "results"
   ],
   "id": "922b7c514a735f0d",
   "outputs": [
    {
     "data": {
      "text/plain": [
       "{'ids': [['id2', 'id1']],\n",
       " 'distances': [[1.443028450012207, 1.8624567985534668]],\n",
       " 'metadatas': [[{'url': 'https://en.wikipedia.org/wiki/New_Delhi'},\n",
       "   {'url': 'https://en.wikipedia.org/wiki/New_York_City'}]],\n",
       " 'embeddings': None,\n",
       " 'documents': [['This document is about Delhi',\n",
       "   'This document is about New York']],\n",
       " 'uris': None,\n",
       " 'data': None,\n",
       " 'included': ['metadatas', 'documents', 'distances']}"
      ]
     },
     "execution_count": 10,
     "metadata": {},
     "output_type": "execute_result"
    }
   ],
   "execution_count": 10
  },
  {
   "metadata": {},
   "cell_type": "code",
   "outputs": [],
   "execution_count": null,
   "source": "",
   "id": "551c33ab6f9a9c3c"
  }
 ],
 "metadata": {
  "kernelspec": {
   "display_name": "Python 3",
   "language": "python",
   "name": "python3"
  },
  "language_info": {
   "codemirror_mode": {
    "name": "ipython",
    "version": 2
   },
   "file_extension": ".py",
   "mimetype": "text/x-python",
   "name": "python",
   "nbconvert_exporter": "python",
   "pygments_lexer": "ipython2",
   "version": "2.7.6"
  }
 },
 "nbformat": 4,
 "nbformat_minor": 5
}
